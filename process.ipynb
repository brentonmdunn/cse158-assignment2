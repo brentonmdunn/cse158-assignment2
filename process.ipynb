{
 "cells": [
  {
   "cell_type": "code",
   "execution_count": 51,
   "metadata": {},
   "outputs": [
    {
     "name": "stdout",
     "output_type": "stream",
     "text": [
      "<class 'pandas.core.frame.DataFrame'>\n",
      "RangeIndex: 19237 entries, 0 to 19236\n",
      "Data columns (total 18 columns):\n",
      " #   Column            Non-Null Count  Dtype  \n",
      "---  ------            --------------  -----  \n",
      " 0   ID                19237 non-null  int64  \n",
      " 1   Price             19237 non-null  int64  \n",
      " 2   Levy              19237 non-null  object \n",
      " 3   Manufacturer      19237 non-null  object \n",
      " 4   Model             19237 non-null  object \n",
      " 5   Prod. year        19237 non-null  int64  \n",
      " 6   Category          19237 non-null  object \n",
      " 7   Leather interior  19237 non-null  object \n",
      " 8   Fuel type         19237 non-null  object \n",
      " 9   Engine volume     19237 non-null  object \n",
      " 10  Mileage           19237 non-null  object \n",
      " 11  Cylinders         19237 non-null  float64\n",
      " 12  Gear box type     19237 non-null  object \n",
      " 13  Drive wheels      19237 non-null  object \n",
      " 14  Doors             19237 non-null  object \n",
      " 15  Wheel             19237 non-null  object \n",
      " 16  Color             19237 non-null  object \n",
      " 17  Airbags           19237 non-null  int64  \n",
      "dtypes: float64(1), int64(4), object(13)\n",
      "memory usage: 2.6+ MB\n"
     ]
    },
    {
     "data": {
      "text/plain": [
       "(         ID  Price  Levy Manufacturer    Model  Prod. year   Category  \\\n",
       " 0  45654403  13328  1399        LEXUS   RX 450        2010       Jeep   \n",
       " 1  44731507  16621  1018    CHEVROLET  Equinox        2011       Jeep   \n",
       " 2  45774419   8467     -        HONDA      FIT        2006  Hatchback   \n",
       " 3  45769185   3607   862         FORD   Escape        2011       Jeep   \n",
       " 4  45809263  11726   446        HONDA      FIT        2014  Hatchback   \n",
       " \n",
       "   Leather interior Fuel type Engine volume    Mileage  Cylinders  \\\n",
       " 0              Yes    Hybrid           3.5  186005 km        6.0   \n",
       " 1               No    Petrol             3  192000 km        6.0   \n",
       " 2               No    Petrol           1.3  200000 km        4.0   \n",
       " 3              Yes    Hybrid           2.5  168966 km        4.0   \n",
       " 4              Yes    Petrol           1.3   91901 km        4.0   \n",
       " \n",
       "   Gear box type Drive wheels   Doors             Wheel   Color  Airbags  \n",
       " 0     Automatic          4x4  04-May        Left wheel  Silver       12  \n",
       " 1     Tiptronic          4x4  04-May        Left wheel   Black        8  \n",
       " 2      Variator        Front  04-May  Right-hand drive   Black        2  \n",
       " 3     Automatic          4x4  04-May        Left wheel   White        0  \n",
       " 4     Automatic        Front  04-May        Left wheel  Silver        4  ,\n",
       " None)"
      ]
     },
     "execution_count": 51,
     "metadata": {},
     "output_type": "execute_result"
    }
   ],
   "source": [
    "# Let's begin by loading the uploaded file to examine its structure and understand the data.\n",
    "import pandas as pd\n",
    "from sklearn.preprocessing import LabelEncoder\n",
    "from sklearn.model_selection import train_test_split\n",
    "\n",
    "# Load the data from the provided CSV file\n",
    "file_path = 'car_price_prediction.csv'\n",
    "df = pd.read_csv(file_path)\n",
    "\n",
    "# Display the first few rows of the dataset to understand its structure\n",
    "df.head(), df.info()"
   ]
  },
  {
   "cell_type": "code",
   "execution_count": 52,
   "metadata": {},
   "outputs": [
    {
     "data": {
      "text/plain": [
       "{'Manufacturer': array(['LEXUS', 'CHEVROLET', 'HONDA', 'FORD', 'HYUNDAI', 'TOYOTA',\n",
       "        'MERCEDES-BENZ', 'OPEL', 'PORSCHE', 'BMW', 'JEEP', 'VOLKSWAGEN',\n",
       "        'AUDI', 'RENAULT', 'NISSAN', 'SUBARU', 'DAEWOO', 'KIA',\n",
       "        'MITSUBISHI', 'SSANGYONG', 'MAZDA', 'GMC', 'FIAT', 'INFINITI',\n",
       "        'ALFA ROMEO', 'SUZUKI', 'ACURA', 'LINCOLN', 'VAZ', 'GAZ',\n",
       "        'CITROEN', 'LAND ROVER', 'MINI', 'DODGE', 'CHRYSLER', 'JAGUAR',\n",
       "        'ISUZU', 'SKODA', 'DAIHATSU', 'BUICK', 'TESLA', 'CADILLAC',\n",
       "        'PEUGEOT', 'BENTLEY', 'VOLVO', 'სხვა', 'HAVAL', 'HUMMER', 'SCION',\n",
       "        'UAZ', 'MERCURY', 'ZAZ', 'ROVER', 'SEAT', 'LANCIA', 'MOSKVICH',\n",
       "        'MASERATI', 'FERRARI', 'SAAB', 'LAMBORGHINI', 'ROLLS-ROYCE',\n",
       "        'PONTIAC', 'SATURN', 'ASTON MARTIN', 'GREATWALL'], dtype=object),\n",
       " 'Model': array(['RX 450', 'Equinox', 'FIT', ..., 'E 230 124', 'RX 450 F SPORT',\n",
       "        'Prius C aqua'], dtype=object),\n",
       " 'Category': array(['Jeep', 'Hatchback', 'Sedan', 'Microbus', 'Goods wagon',\n",
       "        'Universal', 'Coupe', 'Minivan', 'Cabriolet', 'Limousine',\n",
       "        'Pickup'], dtype=object),\n",
       " 'Leather interior': array(['Yes', 'No'], dtype=object),\n",
       " 'Fuel type': array(['Hybrid', 'Petrol', 'Diesel', 'CNG', 'Plug-in Hybrid', 'LPG',\n",
       "        'Hydrogen'], dtype=object),\n",
       " 'Gear box type': array(['Automatic', 'Tiptronic', 'Variator', 'Manual'], dtype=object),\n",
       " 'Drive wheels': array(['4x4', 'Front', 'Rear'], dtype=object),\n",
       " 'Wheel': array(['Left wheel', 'Right-hand drive'], dtype=object),\n",
       " 'Color': array(['Silver', 'Black', 'White', 'Grey', 'Blue', 'Green', 'Red',\n",
       "        'Sky blue', 'Orange', 'Yellow', 'Brown', 'Golden', 'Beige',\n",
       "        'Carnelian red', 'Purple', 'Pink'], dtype=object)}"
      ]
     },
     "execution_count": 52,
     "metadata": {},
     "output_type": "execute_result"
    }
   ],
   "source": [
    "categorical_cols = ['Manufacturer', 'Model', 'Category', 'Leather interior', \n",
    "                    'Fuel type', 'Gear box type', 'Drive wheels', 'Wheel', 'Color']\n",
    "unique_values_dict = {}\n",
    "for col in categorical_cols:\n",
    "    unique_values_dict[col] = df[col].unique()\n",
    "unique_values_dict"
   ]
  },
  {
   "cell_type": "markdown",
   "metadata": {},
   "source": [
    "# Preprocess data"
   ]
  },
  {
   "cell_type": "code",
   "execution_count": 53,
   "metadata": {},
   "outputs": [
    {
     "data": {
      "text/html": [
       "<div>\n",
       "<style scoped>\n",
       "    .dataframe tbody tr th:only-of-type {\n",
       "        vertical-align: middle;\n",
       "    }\n",
       "\n",
       "    .dataframe tbody tr th {\n",
       "        vertical-align: top;\n",
       "    }\n",
       "\n",
       "    .dataframe thead th {\n",
       "        text-align: right;\n",
       "    }\n",
       "</style>\n",
       "<table border=\"1\" class=\"dataframe\">\n",
       "  <thead>\n",
       "    <tr style=\"text-align: right;\">\n",
       "      <th></th>\n",
       "      <th>ID</th>\n",
       "      <th>Price</th>\n",
       "      <th>Levy</th>\n",
       "      <th>Engine volume</th>\n",
       "      <th>Mileage</th>\n",
       "      <th>Cylinders</th>\n",
       "      <th>Doors</th>\n",
       "      <th>Airbags</th>\n",
       "      <th>Car Age</th>\n",
       "      <th>Manufacturer_ALFA ROMEO</th>\n",
       "      <th>...</th>\n",
       "      <th>Color_Green</th>\n",
       "      <th>Color_Grey</th>\n",
       "      <th>Color_Orange</th>\n",
       "      <th>Color_Pink</th>\n",
       "      <th>Color_Purple</th>\n",
       "      <th>Color_Red</th>\n",
       "      <th>Color_Silver</th>\n",
       "      <th>Color_Sky blue</th>\n",
       "      <th>Color_White</th>\n",
       "      <th>Color_Yellow</th>\n",
       "    </tr>\n",
       "  </thead>\n",
       "  <tbody>\n",
       "    <tr>\n",
       "      <th>0</th>\n",
       "      <td>45654403</td>\n",
       "      <td>13328</td>\n",
       "      <td>1399</td>\n",
       "      <td>63</td>\n",
       "      <td>186005.0</td>\n",
       "      <td>6.0</td>\n",
       "      <td>4</td>\n",
       "      <td>12</td>\n",
       "      <td>14</td>\n",
       "      <td>False</td>\n",
       "      <td>...</td>\n",
       "      <td>False</td>\n",
       "      <td>False</td>\n",
       "      <td>False</td>\n",
       "      <td>False</td>\n",
       "      <td>False</td>\n",
       "      <td>False</td>\n",
       "      <td>True</td>\n",
       "      <td>False</td>\n",
       "      <td>False</td>\n",
       "      <td>False</td>\n",
       "    </tr>\n",
       "    <tr>\n",
       "      <th>1</th>\n",
       "      <td>44731507</td>\n",
       "      <td>16621</td>\n",
       "      <td>1018</td>\n",
       "      <td>56</td>\n",
       "      <td>192000.0</td>\n",
       "      <td>6.0</td>\n",
       "      <td>4</td>\n",
       "      <td>8</td>\n",
       "      <td>13</td>\n",
       "      <td>False</td>\n",
       "      <td>...</td>\n",
       "      <td>False</td>\n",
       "      <td>False</td>\n",
       "      <td>False</td>\n",
       "      <td>False</td>\n",
       "      <td>False</td>\n",
       "      <td>False</td>\n",
       "      <td>False</td>\n",
       "      <td>False</td>\n",
       "      <td>False</td>\n",
       "      <td>False</td>\n",
       "    </tr>\n",
       "    <tr>\n",
       "      <th>2</th>\n",
       "      <td>45774419</td>\n",
       "      <td>8467</td>\n",
       "      <td>0</td>\n",
       "      <td>22</td>\n",
       "      <td>200000.0</td>\n",
       "      <td>4.0</td>\n",
       "      <td>4</td>\n",
       "      <td>2</td>\n",
       "      <td>18</td>\n",
       "      <td>False</td>\n",
       "      <td>...</td>\n",
       "      <td>False</td>\n",
       "      <td>False</td>\n",
       "      <td>False</td>\n",
       "      <td>False</td>\n",
       "      <td>False</td>\n",
       "      <td>False</td>\n",
       "      <td>False</td>\n",
       "      <td>False</td>\n",
       "      <td>False</td>\n",
       "      <td>False</td>\n",
       "    </tr>\n",
       "    <tr>\n",
       "      <th>3</th>\n",
       "      <td>45769185</td>\n",
       "      <td>3607</td>\n",
       "      <td>862</td>\n",
       "      <td>46</td>\n",
       "      <td>168966.0</td>\n",
       "      <td>4.0</td>\n",
       "      <td>4</td>\n",
       "      <td>0</td>\n",
       "      <td>13</td>\n",
       "      <td>False</td>\n",
       "      <td>...</td>\n",
       "      <td>False</td>\n",
       "      <td>False</td>\n",
       "      <td>False</td>\n",
       "      <td>False</td>\n",
       "      <td>False</td>\n",
       "      <td>False</td>\n",
       "      <td>False</td>\n",
       "      <td>False</td>\n",
       "      <td>True</td>\n",
       "      <td>False</td>\n",
       "    </tr>\n",
       "    <tr>\n",
       "      <th>4</th>\n",
       "      <td>45809263</td>\n",
       "      <td>11726</td>\n",
       "      <td>446</td>\n",
       "      <td>22</td>\n",
       "      <td>91901.0</td>\n",
       "      <td>4.0</td>\n",
       "      <td>4</td>\n",
       "      <td>4</td>\n",
       "      <td>10</td>\n",
       "      <td>False</td>\n",
       "      <td>...</td>\n",
       "      <td>False</td>\n",
       "      <td>False</td>\n",
       "      <td>False</td>\n",
       "      <td>False</td>\n",
       "      <td>False</td>\n",
       "      <td>False</td>\n",
       "      <td>True</td>\n",
       "      <td>False</td>\n",
       "      <td>False</td>\n",
       "      <td>False</td>\n",
       "    </tr>\n",
       "  </tbody>\n",
       "</table>\n",
       "<p>5 rows × 1700 columns</p>\n",
       "</div>"
      ],
      "text/plain": [
       "         ID  Price  Levy  Engine volume   Mileage  Cylinders  Doors  Airbags  \\\n",
       "0  45654403  13328  1399             63  186005.0        6.0      4       12   \n",
       "1  44731507  16621  1018             56  192000.0        6.0      4        8   \n",
       "2  45774419   8467     0             22  200000.0        4.0      4        2   \n",
       "3  45769185   3607   862             46  168966.0        4.0      4        0   \n",
       "4  45809263  11726   446             22   91901.0        4.0      4        4   \n",
       "\n",
       "   Car Age  Manufacturer_ALFA ROMEO  ...  Color_Green  Color_Grey  \\\n",
       "0       14                    False  ...        False       False   \n",
       "1       13                    False  ...        False       False   \n",
       "2       18                    False  ...        False       False   \n",
       "3       13                    False  ...        False       False   \n",
       "4       10                    False  ...        False       False   \n",
       "\n",
       "   Color_Orange  Color_Pink  Color_Purple  Color_Red  Color_Silver  \\\n",
       "0         False       False         False      False          True   \n",
       "1         False       False         False      False         False   \n",
       "2         False       False         False      False         False   \n",
       "3         False       False         False      False         False   \n",
       "4         False       False         False      False          True   \n",
       "\n",
       "   Color_Sky blue  Color_White  Color_Yellow  \n",
       "0           False        False         False  \n",
       "1           False        False         False  \n",
       "2           False        False         False  \n",
       "3           False         True         False  \n",
       "4           False        False         False  \n",
       "\n",
       "[5 rows x 1700 columns]"
      ]
     },
     "execution_count": 53,
     "metadata": {},
     "output_type": "execute_result"
    }
   ],
   "source": [
    "# Deduplicate rows\n",
    "df = df.drop_duplicates()\n",
    "\n",
    "# Convert Levi to int and replace \"-\" with 0\n",
    "df['Levy'] = df['Levy'].replace('-', 0)\n",
    "\n",
    "# Convert 'Mileage' from string to numeric\n",
    "df['Mileage'] = df['Mileage'].str.replace(' km', '').str.replace(',', '').astype(float)\n",
    "\n",
    "# Label Encode 'Engine volume'\n",
    "label_encoder = LabelEncoder()\n",
    "df['Engine volume'] = label_encoder.fit_transform(df['Engine volume'])\n",
    "\n",
    "# Correct data inconsistencies in 'Doors'\n",
    "# Normalize 'Doors' column values like '>5'\n",
    "df['Doors'] = df['Doors'].replace('04-May', '4-5').replace('>5', '5').str.split('-').apply(lambda x: int(x[0]))\n",
    "\n",
    "# Convert 'Prod. year' to 'Car Age'\n",
    "current_year = pd.Timestamp.now().year\n",
    "df['Car Age'] = current_year - df['Prod. year']\n",
    "df = df.drop('Prod. year', axis=1)\n",
    "\n",
    "# Convert categorical columns to dummy variables\n",
    "categorical_cols = ['Manufacturer', 'Model', 'Category', 'Leather interior', 'Fuel type', \n",
    "                    'Gear box type', 'Drive wheels', 'Wheel', 'Color']\n",
    "df = pd.get_dummies(df, columns=categorical_cols, drop_first=True)\n",
    "df.head()"
   ]
  },
  {
   "cell_type": "code",
   "execution_count": 54,
   "metadata": {},
   "outputs": [],
   "source": [
    "# Splitting the data for machine learning\n",
    "X = df.drop(['Price', 'ID'], axis=1)  # Drop target and ID columns\n",
    "y = df['Price']\n",
    "\n",
    "# Remove outlier due to erroneous input\n",
    "df = df[df['ID'] != 45812886]\n",
    "\n",
    "# Remove cars with price <$500 because that is not realistic \n",
    "df = df[df['Price'] >= 500]\n"
   ]
  },
  {
   "cell_type": "code",
   "execution_count": null,
   "metadata": {},
   "outputs": [],
   "source": []
  },
  {
   "cell_type": "code",
   "execution_count": 55,
   "metadata": {},
   "outputs": [
    {
     "data": {
      "image/png": "[encoded data removed]",
      "text/plain": [
       "<Figure size 1000x600 with 1 Axes>"
      ]
     },
     "metadata": {},
     "output_type": "display_data"
    }
   ],
   "source": [
    "\n",
    "# Create bins of 10,000 and add a new column for the bins\n",
    "bin_edges = range(0, int(df['Price'].max()) + 10000, 10000)\n",
    "df['Price_Bin'] = pd.cut(df['Price'], bins=bin_edges, right=False)\n",
    "\n",
    "# Count the occurrences in each bin\n",
    "bin_counts = df['Price_Bin'].value_counts(sort=False)\n",
    "\n",
    "# Plotting the bar graph\n",
    "plt.figure(figsize=(10, 6))\n",
    "bin_counts.plot(kind='bar', color='skyblue', edgecolor='black')\n",
    "\n",
    "# Customize the x-axis ticks to show every 3rd label\n",
    "plt.xlabel('Price Ranges', fontsize=12)\n",
    "plt.ylabel('Count', fontsize=12)\n",
    "plt.title('Price Distribution in Bins of 10,000', fontsize=14)\n",
    "plt.xticks(ticks=range(len(bin_counts))[::3],  # Select every 3rd tick\n",
    "           labels=[str(bin) for bin in bin_counts.index][::3], rotation=45)\n",
    "\n",
    "# Show the plot\n",
    "plt.tight_layout()\n",
    "plt.show()\n",
    "del df['Price_Bin']\n"
   ]
  },
  {
   "cell_type": "code",
   "execution_count": 56,
   "metadata": {},
   "outputs": [],
   "source": [
    "# Split into training and testing sets\n",
    "X_train, X_test, y_train, y_test = train_test_split(X, y, test_size=0.2, random_state=42)"
   ]
  },
  {
   "cell_type": "code",
   "execution_count": 57,
   "metadata": {},
   "outputs": [],
   "source": [
    "# Save preprocessed data for reuse\n",
    "X_train.to_csv('X_train_preprocessed.csv', index=False)\n",
    "X_test.to_csv('X_test_preprocessed.csv', index=False)\n",
    "y_train.to_csv('y_train.csv', index=False)\n",
    "y_test.to_csv('y_test.csv', index=False)"
   ]
  },
  {
   "cell_type": "markdown",
   "metadata": {},
   "source": [
    "# Model"
   ]
  },
  {
   "cell_type": "code",
   "execution_count": 71,
   "metadata": {},
   "outputs": [],
   "source": [
    "from sklearn.ensemble import RandomForestRegressor\n",
    "from sklearn.metrics import mean_squared_error, mean_absolute_error\n",
    "import numpy as np"
   ]
  },
  {
   "cell_type": "markdown",
   "metadata": {},
   "source": [
    "## Baseline"
   ]
  },
  {
   "cell_type": "code",
   "execution_count": null,
   "metadata": {},
   "outputs": [
    {
     "data": {
      "text/plain": [
       "18798.29"
      ]
     },
     "execution_count": 66,
     "metadata": {},
     "output_type": "execute_result"
    }
   ],
   "source": [
    "average_price = round(float(df[\"Price\"].mean()), 2)\n",
    "baseline_pred = np.array([average_price for _ in range(len(y_test))])\n",
    "mse_baseline = mean_squared_error(y_test, baseline_pred)\n",
    "mse_baseline"
   ]
  },
  {
   "cell_type": "code",
   "execution_count": null,
   "metadata": {},
   "outputs": [],
   "source": []
  },
  {
   "cell_type": "code",
   "execution_count": null,
   "metadata": {},
   "outputs": [
    {
     "data": {
      "text/plain": [
       "np.float64(348612646.8315822)"
      ]
     },
     "execution_count": 74,
     "metadata": {},
     "output_type": "execute_result"
    }
   ],
   "source": []
  },
  {
   "cell_type": "markdown",
   "metadata": {},
   "source": [
    "## Model 2"
   ]
  },
  {
   "cell_type": "code",
   "execution_count": 75,
   "metadata": {},
   "outputs": [
    {
     "name": "stdout",
     "output_type": "stream",
     "text": [
      "MSE on training set: 9727151279.468142\n",
      "MSE on test set: 49524700638.778755\n"
     ]
    }
   ],
   "source": [
    "\n",
    "\n",
    "# Initialize the model (Random Forest Regressor)\n",
    "model = RandomForestRegressor(random_state=42)\n",
    "\n",
    "# Train the model on the training data\n",
    "model.fit(X_train, y_train)\n",
    "\n",
    "# Make predictions\n",
    "y_train_pred = model.predict(X_train)\n",
    "y_test_pred = model.predict(X_test)\n",
    "\n",
    "# Calculate Mean Squared Error\n",
    "mse_train = mean_squared_error(y_train, y_train_pred)\n",
    "mse_test = mean_squared_error(y_test, y_test_pred)\n",
    "\n",
    "print(\"MSE on training set:\", mse_train)\n",
    "print(\"MSE on test set:\", mse_test)"
   ]
  }
 ],
 "metadata": {
  "kernelspec": {
   "display_name": ".venv",
   "language": "python",
   "name": "python3"
  },
  "language_info": {
   "codemirror_mode": {
    "name": "ipython",
    "version": 3
   },
   "file_extension": ".py",
   "mimetype": "text/x-python",
   "name": "python",
   "nbconvert_exporter": "python",
   "pygments_lexer": "ipython3",
   "version": "3.13.0"
  }
 },
 "nbformat": 4,
 "nbformat_minor": 2
}
