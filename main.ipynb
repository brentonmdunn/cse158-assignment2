{
 "cells": [
  {
   "cell_type": "code",
   "execution_count": 19,
   "metadata": {},
   "outputs": [],
   "source": [
    "import pandas as pd"
   ]
  },
  {
   "cell_type": "code",
   "execution_count": 20,
   "metadata": {},
   "outputs": [],
   "source": [
    "df = pd.read_csv('car_price_prediction.csv')"
   ]
  },
  {
   "cell_type": "code",
   "execution_count": null,
   "metadata": {},
   "outputs": [],
   "source": []
  },
  {
   "cell_type": "code",
   "execution_count": null,
   "metadata": {},
   "outputs": [],
   "source": []
  },
  {
   "cell_type": "code",
   "execution_count": 21,
   "metadata": {},
   "outputs": [
    {
     "name": "stdout",
     "output_type": "stream",
     "text": [
      "         ID  Price  Levy Manufacturer    Model  Prod. year   Category  \\\n",
      "0  45654403  13328  1399        LEXUS   RX 450        2010       Jeep   \n",
      "1  44731507  16621  1018    CHEVROLET  Equinox        2011       Jeep   \n",
      "2  45774419   8467     -        HONDA      FIT        2006  Hatchback   \n",
      "3  45769185   3607   862         FORD   Escape        2011       Jeep   \n",
      "4  45809263  11726   446        HONDA      FIT        2014  Hatchback   \n",
      "\n",
      "  Leather interior Fuel type Engine volume    Mileage  Cylinders  \\\n",
      "0              Yes    Hybrid           3.5  186005 km        6.0   \n",
      "1               No    Petrol             3  192000 km        6.0   \n",
      "2               No    Petrol           1.3  200000 km        4.0   \n",
      "3              Yes    Hybrid           2.5  168966 km        4.0   \n",
      "4              Yes    Petrol           1.3   91901 km        4.0   \n",
      "\n",
      "  Gear box type Drive wheels   Doors             Wheel   Color  Airbags  \n",
      "0     Automatic          4x4  04-May        Left wheel  Silver       12  \n",
      "1     Tiptronic          4x4  04-May        Left wheel   Black        8  \n",
      "2      Variator        Front  04-May  Right-hand drive   Black        2  \n",
      "3     Automatic          4x4  04-May        Left wheel   White        0  \n",
      "4     Automatic        Front  04-May        Left wheel  Silver        4  \n",
      "(19237, 18)\n",
      "Index(['ID', 'Price', 'Levy', 'Manufacturer', 'Model', 'Prod. year',\n",
      "       'Category', 'Leather interior', 'Fuel type', 'Engine volume', 'Mileage',\n",
      "       'Cylinders', 'Gear box type', 'Drive wheels', 'Doors', 'Wheel', 'Color',\n",
      "       'Airbags'],\n",
      "      dtype='object')\n"
     ]
    }
   ],
   "source": [
    "# Display the first few rows\n",
    "print(df.head())\n",
    "\n",
    "# Display dataset dimensions\n",
    "print(df.shape)  # (rows, columns)\n",
    "\n",
    "# List column names\n",
    "print(df.columns)"
   ]
  },
  {
   "cell_type": "code",
   "execution_count": 22,
   "metadata": {},
   "outputs": [
    {
     "name": "stdout",
     "output_type": "stream",
     "text": [
      "ID                  0\n",
      "Price               0\n",
      "Levy                0\n",
      "Manufacturer        0\n",
      "Model               0\n",
      "Prod. year          0\n",
      "Category            0\n",
      "Leather interior    0\n",
      "Fuel type           0\n",
      "Engine volume       0\n",
      "Mileage             0\n",
      "Cylinders           0\n",
      "Gear box type       0\n",
      "Drive wheels        0\n",
      "Doors               0\n",
      "Wheel               0\n",
      "Color               0\n",
      "Airbags             0\n",
      "dtype: int64\n",
      "ID                  0.0\n",
      "Price               0.0\n",
      "Levy                0.0\n",
      "Manufacturer        0.0\n",
      "Model               0.0\n",
      "Prod. year          0.0\n",
      "Category            0.0\n",
      "Leather interior    0.0\n",
      "Fuel type           0.0\n",
      "Engine volume       0.0\n",
      "Mileage             0.0\n",
      "Cylinders           0.0\n",
      "Gear box type       0.0\n",
      "Drive wheels        0.0\n",
      "Doors               0.0\n",
      "Wheel               0.0\n",
      "Color               0.0\n",
      "Airbags             0.0\n",
      "dtype: float64\n"
     ]
    }
   ],
   "source": [
    "# Count missing values in each column\n",
    "print(df.isnull().sum())\n",
    "\n",
    "# Check for missing values as a percentage\n",
    "print(df.isnull().mean() * 100)"
   ]
  },
  {
   "cell_type": "code",
   "execution_count": 23,
   "metadata": {},
   "outputs": [
    {
     "name": "stdout",
     "output_type": "stream",
     "text": [
      "<class 'pandas.core.frame.DataFrame'>\n",
      "RangeIndex: 19237 entries, 0 to 19236\n",
      "Data columns (total 18 columns):\n",
      " #   Column            Non-Null Count  Dtype  \n",
      "---  ------            --------------  -----  \n",
      " 0   ID                19237 non-null  int64  \n",
      " 1   Price             19237 non-null  int64  \n",
      " 2   Levy              19237 non-null  object \n",
      " 3   Manufacturer      19237 non-null  object \n",
      " 4   Model             19237 non-null  object \n",
      " 5   Prod. year        19237 non-null  int64  \n",
      " 6   Category          19237 non-null  object \n",
      " 7   Leather interior  19237 non-null  object \n",
      " 8   Fuel type         19237 non-null  object \n",
      " 9   Engine volume     19237 non-null  object \n",
      " 10  Mileage           19237 non-null  object \n",
      " 11  Cylinders         19237 non-null  float64\n",
      " 12  Gear box type     19237 non-null  object \n",
      " 13  Drive wheels      19237 non-null  object \n",
      " 14  Doors             19237 non-null  object \n",
      " 15  Wheel             19237 non-null  object \n",
      " 16  Color             19237 non-null  object \n",
      " 17  Airbags           19237 non-null  int64  \n",
      "dtypes: float64(1), int64(4), object(13)\n",
      "memory usage: 2.6+ MB\n",
      "None\n"
     ]
    }
   ],
   "source": [
    "# Data type and memory usage information\n",
    "print(df.info())"
   ]
  },
  {
   "cell_type": "code",
   "execution_count": 24,
   "metadata": {},
   "outputs": [
    {
     "name": "stdout",
     "output_type": "stream",
     "text": [
      "313\n"
     ]
    }
   ],
   "source": [
    "# Check if there are any duplicate rows\n",
    "print(df.duplicated().sum())"
   ]
  },
  {
   "cell_type": "code",
   "execution_count": 25,
   "metadata": {},
   "outputs": [],
   "source": [
    "df = df.drop_duplicates()"
   ]
  },
  {
   "cell_type": "code",
   "execution_count": 26,
   "metadata": {},
   "outputs": [
    {
     "name": "stdout",
     "output_type": "stream",
     "text": [
      "0\n"
     ]
    }
   ],
   "source": [
    "print(df.duplicated().sum())"
   ]
  },
  {
   "cell_type": "code",
   "execution_count": 27,
   "metadata": {},
   "outputs": [
    {
     "name": "stdout",
     "output_type": "stream",
     "text": [
      "Non-numeric values in 'Levy' column:\n",
      "2        -\n",
      "9        -\n",
      "11       -\n",
      "12       -\n",
      "23       -\n",
      "        ..\n",
      "19223    -\n",
      "19224    -\n",
      "19226    -\n",
      "19229    -\n",
      "19232    -\n",
      "Name: Levy, Length: 5709, dtype: object\n"
     ]
    }
   ],
   "source": [
    "# Attempt to convert the 'Levy' column to numbers\n",
    "df['Levy_num'] = pd.to_numeric(df['Levy'], errors='coerce')\n",
    "\n",
    "# Find non-numeric values\n",
    "non_numeric_values = df[df['Levy_num'].isna()]\n",
    "\n",
    "# Print non-numeric values\n",
    "if not non_numeric_values.empty:\n",
    "    print(\"Non-numeric values in 'Levy' column:\")\n",
    "    print(non_numeric_values['Levy'])\n",
    "else:\n",
    "    print(\"All values in 'Levy' column are numbers.\")\n",
    "\n",
    "    "
   ]
  },
  {
   "cell_type": "code",
   "execution_count": null,
   "metadata": {},
   "outputs": [],
   "source": [
    "# df = df.drop('Levy', axis=1)\n",
    "df['Levy'] = df['Levy'].replace('-', 0)"
   ]
  },
  {
   "cell_type": "code",
   "execution_count": 29,
   "metadata": {},
   "outputs": [
    {
     "data": {
      "text/plain": [
       "np.float64(18587.435267385332)"
      ]
     },
     "execution_count": 29,
     "metadata": {},
     "output_type": "execute_result"
    }
   ],
   "source": [
    "average_price = df['Price'].dropna().mean()\n",
    "average_price "
   ]
  },
  {
   "cell_type": "code",
   "execution_count": null,
   "metadata": {},
   "outputs": [],
   "source": [
    "\n"
   ]
  },
  {
   "cell_type": "code",
   "execution_count": null,
   "metadata": {},
   "outputs": [],
   "source": []
  },
  {
   "cell_type": "code",
   "execution_count": null,
   "metadata": {},
   "outputs": [],
   "source": []
  },
  {
   "cell_type": "code",
   "execution_count": null,
   "metadata": {},
   "outputs": [],
   "source": []
  }
 ],
 "metadata": {
  "kernelspec": {
   "display_name": ".venv",
   "language": "python",
   "name": "python3"
  },
  "language_info": {
   "codemirror_mode": {
    "name": "ipython",
    "version": 3
   },
   "file_extension": ".py",
   "mimetype": "text/x-python",
   "name": "python",
   "nbconvert_exporter": "python",
   "pygments_lexer": "ipython3",
   "version": "3.13.0"
  }
 },
 "nbformat": 4,
 "nbformat_minor": 2
}
